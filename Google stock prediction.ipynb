{
 "cells": [
  {
   "cell_type": "code",
   "execution_count": 1,
   "id": "97b4bfb3",
   "metadata": {},
   "outputs": [],
   "source": [
    "import numpy as np\n",
    "import matplotlib.pyplot as plt\n",
    "import pandas as pd"
   ]
  },
  {
   "cell_type": "code",
   "execution_count": 2,
   "id": "e216b62d",
   "metadata": {},
   "outputs": [],
   "source": [
    "dataset_train = pd.read_csv('Google_Stock_Price_Train.csv')"
   ]
  },
  {
   "cell_type": "code",
   "execution_count": 3,
   "id": "f7561979",
   "metadata": {},
   "outputs": [
    {
     "data": {
      "text/plain": [
       "(1258, 6)"
      ]
     },
     "execution_count": 3,
     "metadata": {},
     "output_type": "execute_result"
    }
   ],
   "source": [
    "dataset_train.shape"
   ]
  },
  {
   "cell_type": "code",
   "execution_count": 4,
   "id": "68357535",
   "metadata": {},
   "outputs": [
    {
     "data": {
      "text/html": [
       "<div>\n",
       "<style scoped>\n",
       "    .dataframe tbody tr th:only-of-type {\n",
       "        vertical-align: middle;\n",
       "    }\n",
       "\n",
       "    .dataframe tbody tr th {\n",
       "        vertical-align: top;\n",
       "    }\n",
       "\n",
       "    .dataframe thead th {\n",
       "        text-align: right;\n",
       "    }\n",
       "</style>\n",
       "<table border=\"1\" class=\"dataframe\">\n",
       "  <thead>\n",
       "    <tr style=\"text-align: right;\">\n",
       "      <th></th>\n",
       "      <th>Date</th>\n",
       "      <th>Open</th>\n",
       "      <th>High</th>\n",
       "      <th>Low</th>\n",
       "      <th>Close</th>\n",
       "      <th>Volume</th>\n",
       "    </tr>\n",
       "  </thead>\n",
       "  <tbody>\n",
       "    <tr>\n",
       "      <th>0</th>\n",
       "      <td>1/3/2012</td>\n",
       "      <td>325.25</td>\n",
       "      <td>332.83</td>\n",
       "      <td>324.97</td>\n",
       "      <td>663.59</td>\n",
       "      <td>7,380,500</td>\n",
       "    </tr>\n",
       "    <tr>\n",
       "      <th>1</th>\n",
       "      <td>1/4/2012</td>\n",
       "      <td>331.27</td>\n",
       "      <td>333.87</td>\n",
       "      <td>329.08</td>\n",
       "      <td>666.45</td>\n",
       "      <td>5,749,400</td>\n",
       "    </tr>\n",
       "    <tr>\n",
       "      <th>2</th>\n",
       "      <td>1/5/2012</td>\n",
       "      <td>329.83</td>\n",
       "      <td>330.75</td>\n",
       "      <td>326.89</td>\n",
       "      <td>657.21</td>\n",
       "      <td>6,590,300</td>\n",
       "    </tr>\n",
       "    <tr>\n",
       "      <th>3</th>\n",
       "      <td>1/6/2012</td>\n",
       "      <td>328.34</td>\n",
       "      <td>328.77</td>\n",
       "      <td>323.68</td>\n",
       "      <td>648.24</td>\n",
       "      <td>5,405,900</td>\n",
       "    </tr>\n",
       "    <tr>\n",
       "      <th>4</th>\n",
       "      <td>1/9/2012</td>\n",
       "      <td>322.04</td>\n",
       "      <td>322.29</td>\n",
       "      <td>309.46</td>\n",
       "      <td>620.76</td>\n",
       "      <td>11,688,800</td>\n",
       "    </tr>\n",
       "  </tbody>\n",
       "</table>\n",
       "</div>"
      ],
      "text/plain": [
       "       Date    Open    High     Low   Close      Volume\n",
       "0  1/3/2012  325.25  332.83  324.97  663.59   7,380,500\n",
       "1  1/4/2012  331.27  333.87  329.08  666.45   5,749,400\n",
       "2  1/5/2012  329.83  330.75  326.89  657.21   6,590,300\n",
       "3  1/6/2012  328.34  328.77  323.68  648.24   5,405,900\n",
       "4  1/9/2012  322.04  322.29  309.46  620.76  11,688,800"
      ]
     },
     "execution_count": 4,
     "metadata": {},
     "output_type": "execute_result"
    }
   ],
   "source": [
    "dataset_train.head()"
   ]
  },
  {
   "cell_type": "code",
   "execution_count": 5,
   "id": "584e67f4",
   "metadata": {},
   "outputs": [
    {
     "name": "stdout",
     "output_type": "stream",
     "text": [
      "<class 'pandas.core.frame.DataFrame'>\n",
      "RangeIndex: 1258 entries, 0 to 1257\n",
      "Data columns (total 6 columns):\n",
      " #   Column  Non-Null Count  Dtype  \n",
      "---  ------  --------------  -----  \n",
      " 0   Date    1258 non-null   object \n",
      " 1   Open    1258 non-null   float64\n",
      " 2   High    1258 non-null   float64\n",
      " 3   Low     1258 non-null   float64\n",
      " 4   Close   1258 non-null   object \n",
      " 5   Volume  1258 non-null   object \n",
      "dtypes: float64(3), object(3)\n",
      "memory usage: 59.1+ KB\n"
     ]
    }
   ],
   "source": [
    "dataset_train.info()"
   ]
  },
  {
   "cell_type": "markdown",
   "id": "85f31d9e",
   "metadata": {},
   "source": [
    "### Cleaning the data"
   ]
  },
  {
   "cell_type": "code",
   "execution_count": 6,
   "id": "0a0ea67a",
   "metadata": {},
   "outputs": [],
   "source": [
    "def clean(data):\n",
    "    #drop date column\n",
    "    df = data.copy()\n",
    "    df.drop(['Date'],axis = 1,inplace = True)\n",
    "    \n",
    "    #remove commas(,) in the columns 'Volume' and 'Close'\n",
    "    x = str(df['Volume'].dtypes)\n",
    "    y = str(df['Close'].dtypes)\n",
    "    \n",
    "    if(x == 'object'):\n",
    "        for i in range(0,df.shape[0]):\n",
    "            df['Volume'].iloc[i] = df['Volume'].iloc[i].replace(',','')\n",
    "    if(y == 'object'):\n",
    "        for i in range(0,df.shape[0]):\n",
    "            df['Close'].iloc[i] = df['Close'].iloc[i].replace(',','')\n",
    "    \n",
    "    #change datatype of 'Volume' and 'Close'\n",
    "    df['Volume'] = pd.to_numeric(df['Volume'])\n",
    "    df['Close'] = pd.to_numeric(df['Close'])\n",
    "    \n",
    "    return df"
   ]
  },
  {
   "cell_type": "code",
   "execution_count": 7,
   "id": "5aa39730",
   "metadata": {},
   "outputs": [
    {
     "name": "stderr",
     "output_type": "stream",
     "text": [
      "C:\\Users\\akshayd6\\AppData\\Local\\Temp\\ipykernel_20812\\4292940149.py:12: SettingWithCopyWarning: \n",
      "A value is trying to be set on a copy of a slice from a DataFrame\n",
      "\n",
      "See the caveats in the documentation: https://pandas.pydata.org/pandas-docs/stable/user_guide/indexing.html#returning-a-view-versus-a-copy\n",
      "  df['Volume'].iloc[i] = df['Volume'].iloc[i].replace(',','')\n",
      "C:\\Users\\akshayd6\\AppData\\Local\\Temp\\ipykernel_20812\\4292940149.py:15: SettingWithCopyWarning: \n",
      "A value is trying to be set on a copy of a slice from a DataFrame\n",
      "\n",
      "See the caveats in the documentation: https://pandas.pydata.org/pandas-docs/stable/user_guide/indexing.html#returning-a-view-versus-a-copy\n",
      "  df['Close'].iloc[i] = df['Close'].iloc[i].replace(',','')\n"
     ]
    }
   ],
   "source": [
    "dataset_train = clean(dataset_train)"
   ]
  },
  {
   "cell_type": "code",
   "execution_count": 8,
   "id": "c37d20b8",
   "metadata": {},
   "outputs": [
    {
     "data": {
      "text/html": [
       "<div>\n",
       "<style scoped>\n",
       "    .dataframe tbody tr th:only-of-type {\n",
       "        vertical-align: middle;\n",
       "    }\n",
       "\n",
       "    .dataframe tbody tr th {\n",
       "        vertical-align: top;\n",
       "    }\n",
       "\n",
       "    .dataframe thead th {\n",
       "        text-align: right;\n",
       "    }\n",
       "</style>\n",
       "<table border=\"1\" class=\"dataframe\">\n",
       "  <thead>\n",
       "    <tr style=\"text-align: right;\">\n",
       "      <th></th>\n",
       "      <th>High</th>\n",
       "      <th>Low</th>\n",
       "      <th>Close</th>\n",
       "      <th>Volume</th>\n",
       "    </tr>\n",
       "  </thead>\n",
       "  <tbody>\n",
       "    <tr>\n",
       "      <th>0</th>\n",
       "      <td>332.83</td>\n",
       "      <td>324.97</td>\n",
       "      <td>663.59</td>\n",
       "      <td>7380500</td>\n",
       "    </tr>\n",
       "    <tr>\n",
       "      <th>1</th>\n",
       "      <td>333.87</td>\n",
       "      <td>329.08</td>\n",
       "      <td>666.45</td>\n",
       "      <td>5749400</td>\n",
       "    </tr>\n",
       "    <tr>\n",
       "      <th>2</th>\n",
       "      <td>330.75</td>\n",
       "      <td>326.89</td>\n",
       "      <td>657.21</td>\n",
       "      <td>6590300</td>\n",
       "    </tr>\n",
       "    <tr>\n",
       "      <th>3</th>\n",
       "      <td>328.77</td>\n",
       "      <td>323.68</td>\n",
       "      <td>648.24</td>\n",
       "      <td>5405900</td>\n",
       "    </tr>\n",
       "    <tr>\n",
       "      <th>4</th>\n",
       "      <td>322.29</td>\n",
       "      <td>309.46</td>\n",
       "      <td>620.76</td>\n",
       "      <td>11688800</td>\n",
       "    </tr>\n",
       "    <tr>\n",
       "      <th>...</th>\n",
       "      <td>...</td>\n",
       "      <td>...</td>\n",
       "      <td>...</td>\n",
       "      <td>...</td>\n",
       "    </tr>\n",
       "    <tr>\n",
       "      <th>1253</th>\n",
       "      <td>792.74</td>\n",
       "      <td>787.28</td>\n",
       "      <td>789.91</td>\n",
       "      <td>623400</td>\n",
       "    </tr>\n",
       "    <tr>\n",
       "      <th>1254</th>\n",
       "      <td>797.86</td>\n",
       "      <td>787.66</td>\n",
       "      <td>791.55</td>\n",
       "      <td>789100</td>\n",
       "    </tr>\n",
       "    <tr>\n",
       "      <th>1255</th>\n",
       "      <td>794.23</td>\n",
       "      <td>783.20</td>\n",
       "      <td>785.05</td>\n",
       "      <td>1153800</td>\n",
       "    </tr>\n",
       "    <tr>\n",
       "      <th>1256</th>\n",
       "      <td>785.93</td>\n",
       "      <td>778.92</td>\n",
       "      <td>782.79</td>\n",
       "      <td>744300</td>\n",
       "    </tr>\n",
       "    <tr>\n",
       "      <th>1257</th>\n",
       "      <td>782.78</td>\n",
       "      <td>770.41</td>\n",
       "      <td>771.82</td>\n",
       "      <td>1770000</td>\n",
       "    </tr>\n",
       "  </tbody>\n",
       "</table>\n",
       "<p>1258 rows × 4 columns</p>\n",
       "</div>"
      ],
      "text/plain": [
       "        High     Low   Close    Volume\n",
       "0     332.83  324.97  663.59   7380500\n",
       "1     333.87  329.08  666.45   5749400\n",
       "2     330.75  326.89  657.21   6590300\n",
       "3     328.77  323.68  648.24   5405900\n",
       "4     322.29  309.46  620.76  11688800\n",
       "...      ...     ...     ...       ...\n",
       "1253  792.74  787.28  789.91    623400\n",
       "1254  797.86  787.66  791.55    789100\n",
       "1255  794.23  783.20  785.05   1153800\n",
       "1256  785.93  778.92  782.79    744300\n",
       "1257  782.78  770.41  771.82   1770000\n",
       "\n",
       "[1258 rows x 4 columns]"
      ]
     },
     "execution_count": 8,
     "metadata": {},
     "output_type": "execute_result"
    }
   ],
   "source": [
    "dataset_train.iloc[:,1:]"
   ]
  },
  {
   "cell_type": "markdown",
   "id": "63f62cb9",
   "metadata": {},
   "source": [
    "### Scaling the Data"
   ]
  },
  {
   "cell_type": "code",
   "execution_count": 9,
   "id": "955e4087",
   "metadata": {},
   "outputs": [],
   "source": [
    "from sklearn.preprocessing import StandardScaler"
   ]
  },
  {
   "cell_type": "code",
   "execution_count": 11,
   "id": "db963a44",
   "metadata": {},
   "outputs": [],
   "source": [
    "sc = MinMaxScaler(feature_range=(0, 1))\n",
    "training_set_scaled_target = sc.fit_transform(dataset_train.iloc[:,0:1])"
   ]
  },
  {
   "cell_type": "code",
   "execution_count": 12,
   "id": "07b196b2",
   "metadata": {},
   "outputs": [],
   "source": [
    "sc1 = MinMaxScaler()\n",
    "training_set_scaled_data = sc1.fit_transform(dataset_train.iloc[:,1:])"
   ]
  },
  {
   "cell_type": "code",
   "execution_count": 19,
   "id": "863e8561",
   "metadata": {},
   "outputs": [
    {
     "data": {
      "text/plain": [
       "(1258, 1)"
      ]
     },
     "execution_count": 19,
     "metadata": {},
     "output_type": "execute_result"
    }
   ],
   "source": [
    "training_set_scaled_target.shape"
   ]
  },
  {
   "cell_type": "code",
   "execution_count": 14,
   "id": "0c5d253f",
   "metadata": {},
   "outputs": [
    {
     "data": {
      "text/plain": [
       "array([[0.09640129, 0.09044931, 0.23757287, 0.29525831],\n",
       "       [0.09834351, 0.09823458, 0.24151427, 0.22993592],\n",
       "       [0.09251685, 0.09408623, 0.22878051, 0.26361233],\n",
       "       ...,\n",
       "       [0.95807422, 0.95844067, 0.40495845, 0.04589107],\n",
       "       [0.94257381, 0.95033338, 0.40184391, 0.02949139],\n",
       "       [0.93669113, 0.93421352, 0.38672602, 0.07056868]])"
      ]
     },
     "execution_count": 14,
     "metadata": {},
     "output_type": "execute_result"
    }
   ],
   "source": [
    "training_set_scaled_data"
   ]
  },
  {
   "cell_type": "code",
   "execution_count": 27,
   "id": "c593f22e",
   "metadata": {},
   "outputs": [],
   "source": [
    "final_train = np.concatenate((training_set_scaled_target,training_set_scaled_data),axis = 1)"
   ]
  },
  {
   "cell_type": "code",
   "execution_count": 28,
   "id": "ab7927f7",
   "metadata": {},
   "outputs": [
    {
     "data": {
      "text/plain": [
       "array([[0.08581368, 0.09640129, 0.09044931, 0.23757287, 0.29525831],\n",
       "       [0.09701243, 0.09834351, 0.09823458, 0.24151427, 0.22993592],\n",
       "       [0.09433366, 0.09251685, 0.09408623, 0.22878051, 0.26361233],\n",
       "       ...,\n",
       "       [0.95725128, 0.95807422, 0.95844067, 0.40495845, 0.04589107],\n",
       "       [0.93796041, 0.94257381, 0.95033338, 0.40184391, 0.02949139],\n",
       "       [0.93688146, 0.93669113, 0.93421352, 0.38672602, 0.07056868]])"
      ]
     },
     "execution_count": 28,
     "metadata": {},
     "output_type": "execute_result"
    }
   ],
   "source": [
    "final_train"
   ]
  },
  {
   "cell_type": "markdown",
   "id": "fade80ac",
   "metadata": {},
   "source": [
    "### Transforming the data using 60 timesteps"
   ]
  },
  {
   "cell_type": "code",
   "execution_count": 29,
   "id": "9b09b639",
   "metadata": {},
   "outputs": [],
   "source": [
    "X_train = []\n",
    "y_train = []"
   ]
  },
  {
   "cell_type": "code",
   "execution_count": 30,
   "id": "f07b7dd4",
   "metadata": {},
   "outputs": [],
   "source": [
    "for i in range(60,1258):\n",
    "    X_train.append(final_train[i-60:i,0:5])\n",
    "    y_train.append(final_train[i,0])"
   ]
  },
  {
   "cell_type": "code",
   "execution_count": 31,
   "id": "beaae683",
   "metadata": {},
   "outputs": [],
   "source": [
    "X_train = np.array(X_train)\n",
    "y_train = np.array(y_train)"
   ]
  },
  {
   "cell_type": "code",
   "execution_count": 32,
   "id": "bd52b60c",
   "metadata": {},
   "outputs": [
    {
     "data": {
      "text/plain": [
       "(1198, 60, 5)"
      ]
     },
     "execution_count": 32,
     "metadata": {},
     "output_type": "execute_result"
    }
   ],
   "source": [
    "X_train.shape"
   ]
  },
  {
   "cell_type": "code",
   "execution_count": 33,
   "id": "b85e236d",
   "metadata": {},
   "outputs": [
    {
     "data": {
      "text/plain": [
       "(1198,)"
      ]
     },
     "execution_count": 33,
     "metadata": {},
     "output_type": "execute_result"
    }
   ],
   "source": [
    "y_train.shape"
   ]
  },
  {
   "cell_type": "markdown",
   "id": "377cc34d",
   "metadata": {},
   "source": [
    "### Build an LSTM"
   ]
  },
  {
   "cell_type": "code",
   "execution_count": 34,
   "id": "fc95eeab",
   "metadata": {},
   "outputs": [],
   "source": [
    "from keras.models import Sequential\n",
    "from keras.layers import Dense\n",
    "from keras.layers import LSTM\n",
    "from keras.layers import Dropout"
   ]
  },
  {
   "cell_type": "code",
   "execution_count": 35,
   "id": "e0661309",
   "metadata": {},
   "outputs": [],
   "source": [
    "regressor = Sequential()"
   ]
  },
  {
   "cell_type": "code",
   "execution_count": 36,
   "id": "1fb23c10",
   "metadata": {},
   "outputs": [],
   "source": [
    "regressor.add(LSTM(units = 60,return_sequences = True,input_shape = (60,5)))\n",
    "regressor.add(Dropout(rate = 0.2))\n",
    "regressor.add(LSTM(units = 60,return_sequences = True))\n",
    "regressor.add(Dropout(rate = 0.2))\n",
    "regressor.add(LSTM(units = 60,return_sequences = True))\n",
    "regressor.add(Dropout(rate = 0.2))\n",
    "regressor.add(LSTM(units = 60,return_sequences = True))\n",
    "regressor.add(Dropout(rate = 0.2))\n",
    "regressor.add(LSTM(units = 60))\n",
    "regressor.add(Dropout(rate = 0.2))\n",
    "regressor.add(Dense(units = 1))"
   ]
  },
  {
   "cell_type": "code",
   "execution_count": 122,
   "id": "faddf183",
   "metadata": {},
   "outputs": [],
   "source": [
    "regressor.compile(optimizer = 'Nadam', metrics = 'accuracy', loss = 'MeanSquaredError')"
   ]
  },
  {
   "cell_type": "code",
   "execution_count": 123,
   "id": "e1442a6b",
   "metadata": {},
   "outputs": [
    {
     "name": "stdout",
     "output_type": "stream",
     "text": [
      "Epoch 1/150\n",
      "38/38 [==============================] - 12s 89ms/step - loss: 6.2578e-04 - accuracy: 0.0017\n",
      "Epoch 2/150\n",
      "38/38 [==============================] - 4s 112ms/step - loss: 7.6025e-04 - accuracy: 0.0017\n",
      "Epoch 3/150\n",
      "38/38 [==============================] - 5s 119ms/step - loss: 7.9030e-04 - accuracy: 0.0017\n",
      "Epoch 4/150\n",
      "38/38 [==============================] - 4s 102ms/step - loss: 6.8298e-04 - accuracy: 0.0017\n",
      "Epoch 5/150\n",
      "38/38 [==============================] - 4s 112ms/step - loss: 6.3601e-04 - accuracy: 0.0017\n",
      "Epoch 6/150\n",
      "38/38 [==============================] - 4s 102ms/step - loss: 7.5147e-04 - accuracy: 0.0017\n",
      "Epoch 7/150\n",
      "38/38 [==============================] - 4s 100ms/step - loss: 7.0363e-04 - accuracy: 0.0017\n",
      "Epoch 8/150\n",
      "38/38 [==============================] - 4s 101ms/step - loss: 6.5032e-04 - accuracy: 0.0017\n",
      "Epoch 9/150\n",
      "38/38 [==============================] - 4s 100ms/step - loss: 6.5823e-04 - accuracy: 0.0017\n",
      "Epoch 10/150\n",
      "38/38 [==============================] - 4s 99ms/step - loss: 7.0008e-04 - accuracy: 0.0017\n",
      "Epoch 11/150\n",
      "38/38 [==============================] - 4s 101ms/step - loss: 6.5112e-04 - accuracy: 0.0017\n",
      "Epoch 12/150\n",
      "38/38 [==============================] - 4s 102ms/step - loss: 6.0727e-04 - accuracy: 0.0017\n",
      "Epoch 13/150\n",
      "38/38 [==============================] - 4s 101ms/step - loss: 7.1651e-04 - accuracy: 0.0017\n",
      "Epoch 14/150\n",
      "38/38 [==============================] - 4s 101ms/step - loss: 7.4567e-04 - accuracy: 0.0017\n",
      "Epoch 15/150\n",
      "38/38 [==============================] - 4s 109ms/step - loss: 7.7556e-04 - accuracy: 0.0017\n",
      "Epoch 16/150\n",
      "38/38 [==============================] - 4s 100ms/step - loss: 7.4161e-04 - accuracy: 0.0017\n",
      "Epoch 17/150\n",
      "38/38 [==============================] - 4s 100ms/step - loss: 6.6616e-04 - accuracy: 0.0017\n",
      "Epoch 18/150\n",
      "38/38 [==============================] - 4s 104ms/step - loss: 6.2553e-04 - accuracy: 0.0017\n",
      "Epoch 19/150\n",
      "38/38 [==============================] - 5s 122ms/step - loss: 6.6000e-04 - accuracy: 0.0017\n",
      "Epoch 20/150\n",
      "38/38 [==============================] - 4s 100ms/step - loss: 6.5686e-04 - accuracy: 0.0017\n",
      "Epoch 21/150\n",
      "38/38 [==============================] - 4s 102ms/step - loss: 7.0672e-04 - accuracy: 0.0017\n",
      "Epoch 22/150\n",
      "38/38 [==============================] - 4s 110ms/step - loss: 7.9124e-04 - accuracy: 0.0017\n",
      "Epoch 23/150\n",
      "38/38 [==============================] - 4s 98ms/step - loss: 6.1569e-04 - accuracy: 0.0017\n",
      "Epoch 24/150\n",
      "38/38 [==============================] - 4s 97ms/step - loss: 6.9822e-04 - accuracy: 0.0017\n",
      "Epoch 25/150\n",
      "38/38 [==============================] - 4s 97ms/step - loss: 6.6455e-04 - accuracy: 0.0017\n",
      "Epoch 26/150\n",
      "38/38 [==============================] - 4s 97ms/step - loss: 6.3348e-04 - accuracy: 0.0017\n",
      "Epoch 27/150\n",
      "38/38 [==============================] - 4s 97ms/step - loss: 7.0788e-04 - accuracy: 0.0017\n",
      "Epoch 28/150\n",
      "38/38 [==============================] - 4s 97ms/step - loss: 6.8780e-04 - accuracy: 0.0017\n",
      "Epoch 29/150\n",
      "38/38 [==============================] - 4s 97ms/step - loss: 6.3218e-04 - accuracy: 0.0017\n",
      "Epoch 30/150\n",
      "38/38 [==============================] - 4s 97ms/step - loss: 6.7851e-04 - accuracy: 0.0017\n",
      "Epoch 31/150\n",
      "38/38 [==============================] - 4s 98ms/step - loss: 6.3984e-04 - accuracy: 0.0017\n",
      "Epoch 32/150\n",
      "38/38 [==============================] - 4s 97ms/step - loss: 6.6460e-04 - accuracy: 0.0017\n",
      "Epoch 33/150\n",
      "38/38 [==============================] - 4s 98ms/step - loss: 6.7774e-04 - accuracy: 0.0017\n",
      "Epoch 34/150\n",
      "38/38 [==============================] - 4s 97ms/step - loss: 6.2925e-04 - accuracy: 0.0017\n",
      "Epoch 35/150\n",
      "38/38 [==============================] - 4s 110ms/step - loss: 6.7917e-04 - accuracy: 0.0017\n",
      "Epoch 36/150\n",
      "38/38 [==============================] - 4s 106ms/step - loss: 6.7921e-04 - accuracy: 0.0017\n",
      "Epoch 37/150\n",
      "38/38 [==============================] - 4s 101ms/step - loss: 6.6382e-04 - accuracy: 0.0017\n",
      "Epoch 38/150\n",
      "38/38 [==============================] - 4s 102ms/step - loss: 6.6072e-04 - accuracy: 0.0017\n",
      "Epoch 39/150\n",
      "38/38 [==============================] - 5s 121ms/step - loss: 6.5510e-04 - accuracy: 0.0017\n",
      "Epoch 40/150\n",
      "38/38 [==============================] - 5s 124ms/step - loss: 6.0028e-04 - accuracy: 0.0017\n",
      "Epoch 41/150\n",
      "38/38 [==============================] - 5s 118ms/step - loss: 6.6010e-04 - accuracy: 0.0017\n",
      "Epoch 42/150\n",
      "38/38 [==============================] - 4s 97ms/step - loss: 5.8157e-04 - accuracy: 0.0017\n",
      "Epoch 43/150\n",
      "38/38 [==============================] - 4s 99ms/step - loss: 6.3395e-04 - accuracy: 0.0017\n",
      "Epoch 44/150\n",
      "38/38 [==============================] - 4s 98ms/step - loss: 6.5190e-04 - accuracy: 0.0017\n",
      "Epoch 45/150\n",
      "38/38 [==============================] - 4s 97ms/step - loss: 6.0448e-04 - accuracy: 0.0017\n",
      "Epoch 46/150\n",
      "38/38 [==============================] - 4s 97ms/step - loss: 6.2765e-04 - accuracy: 0.0017\n",
      "Epoch 47/150\n",
      "38/38 [==============================] - 4s 97ms/step - loss: 5.9830e-04 - accuracy: 0.0017\n",
      "Epoch 48/150\n",
      "38/38 [==============================] - 4s 97ms/step - loss: 6.1349e-04 - accuracy: 0.0017\n",
      "Epoch 49/150\n",
      "38/38 [==============================] - 4s 97ms/step - loss: 6.4888e-04 - accuracy: 0.0017\n",
      "Epoch 50/150\n",
      "38/38 [==============================] - 5s 139ms/step - loss: 6.3693e-04 - accuracy: 0.0017\n",
      "Epoch 51/150\n",
      "38/38 [==============================] - 4s 117ms/step - loss: 6.0129e-04 - accuracy: 0.0017\n",
      "Epoch 52/150\n",
      "38/38 [==============================] - 4s 111ms/step - loss: 6.3671e-04 - accuracy: 0.0017\n",
      "Epoch 53/150\n",
      "38/38 [==============================] - 4s 115ms/step - loss: 6.1528e-04 - accuracy: 0.0017\n",
      "Epoch 54/150\n",
      "38/38 [==============================] - 4s 103ms/step - loss: 6.1907e-04 - accuracy: 0.0017\n",
      "Epoch 55/150\n",
      "38/38 [==============================] - 4s 105ms/step - loss: 5.7818e-04 - accuracy: 0.0017\n",
      "Epoch 56/150\n",
      "38/38 [==============================] - 4s 98ms/step - loss: 6.2347e-04 - accuracy: 0.0017\n",
      "Epoch 57/150\n",
      "38/38 [==============================] - 4s 97ms/step - loss: 6.4260e-04 - accuracy: 0.0017\n",
      "Epoch 58/150\n",
      "38/38 [==============================] - 4s 99ms/step - loss: 5.9359e-04 - accuracy: 0.0017\n",
      "Epoch 59/150\n",
      "38/38 [==============================] - 4s 101ms/step - loss: 6.5746e-04 - accuracy: 0.0017\n",
      "Epoch 60/150\n",
      "38/38 [==============================] - 4s 110ms/step - loss: 6.1460e-04 - accuracy: 0.0017\n",
      "Epoch 61/150\n",
      "38/38 [==============================] - 4s 100ms/step - loss: 6.3549e-04 - accuracy: 0.0017\n",
      "Epoch 62/150\n",
      "38/38 [==============================] - 4s 107ms/step - loss: 6.5100e-04 - accuracy: 0.0017\n",
      "Epoch 63/150\n",
      "38/38 [==============================] - 4s 100ms/step - loss: 5.8555e-04 - accuracy: 0.0017\n",
      "Epoch 64/150\n",
      "38/38 [==============================] - 4s 105ms/step - loss: 5.9792e-04 - accuracy: 0.0017\n",
      "Epoch 65/150\n",
      "38/38 [==============================] - 4s 111ms/step - loss: 6.3859e-04 - accuracy: 0.0017\n",
      "Epoch 66/150\n",
      "38/38 [==============================] - 4s 117ms/step - loss: 6.6528e-04 - accuracy: 0.0017\n",
      "Epoch 67/150\n",
      "38/38 [==============================] - 4s 100ms/step - loss: 6.3814e-04 - accuracy: 0.0017\n",
      "Epoch 68/150\n",
      "38/38 [==============================] - 4s 104ms/step - loss: 6.6881e-04 - accuracy: 0.0017\n",
      "Epoch 69/150\n",
      "38/38 [==============================] - 4s 96ms/step - loss: 6.5749e-04 - accuracy: 0.0017\n",
      "Epoch 70/150\n",
      "38/38 [==============================] - 4s 105ms/step - loss: 6.6448e-04 - accuracy: 0.0017\n",
      "Epoch 71/150\n",
      "38/38 [==============================] - 4s 95ms/step - loss: 5.9969e-04 - accuracy: 0.0017\n",
      "Epoch 72/150\n",
      "38/38 [==============================] - 4s 94ms/step - loss: 6.3690e-04 - accuracy: 0.0017\n",
      "Epoch 73/150\n",
      "38/38 [==============================] - 4s 95ms/step - loss: 5.6203e-04 - accuracy: 0.0017\n",
      "Epoch 74/150\n",
      "38/38 [==============================] - 4s 93ms/step - loss: 5.9983e-04 - accuracy: 0.0017\n",
      "Epoch 75/150\n",
      "38/38 [==============================] - 4s 94ms/step - loss: 5.5170e-04 - accuracy: 0.0017\n",
      "Epoch 76/150\n",
      "38/38 [==============================] - 4s 93ms/step - loss: 6.3475e-04 - accuracy: 0.0017\n",
      "Epoch 77/150\n",
      "38/38 [==============================] - 4s 94ms/step - loss: 6.1254e-04 - accuracy: 0.0017\n",
      "Epoch 78/150\n"
     ]
    },
    {
     "name": "stdout",
     "output_type": "stream",
     "text": [
      "38/38 [==============================] - 4s 92ms/step - loss: 5.4952e-04 - accuracy: 0.0017\n",
      "Epoch 79/150\n",
      "38/38 [==============================] - 4s 93ms/step - loss: 5.6626e-04 - accuracy: 0.0017\n",
      "Epoch 80/150\n",
      "38/38 [==============================] - 4s 93ms/step - loss: 6.5021e-04 - accuracy: 0.0017\n",
      "Epoch 81/150\n",
      "38/38 [==============================] - 4s 93ms/step - loss: 5.8197e-04 - accuracy: 0.0017\n",
      "Epoch 82/150\n",
      "38/38 [==============================] - 4s 105ms/step - loss: 6.3537e-04 - accuracy: 0.0017\n",
      "Epoch 83/150\n",
      "38/38 [==============================] - 4s 96ms/step - loss: 6.3537e-04 - accuracy: 0.0017\n",
      "Epoch 84/150\n",
      "38/38 [==============================] - 4s 104ms/step - loss: 5.5634e-04 - accuracy: 0.0017\n",
      "Epoch 85/150\n",
      "38/38 [==============================] - 4s 94ms/step - loss: 6.2245e-04 - accuracy: 0.0017\n",
      "Epoch 86/150\n",
      "38/38 [==============================] - 4s 93ms/step - loss: 6.2510e-04 - accuracy: 0.0017\n",
      "Epoch 87/150\n",
      "38/38 [==============================] - 4s 103ms/step - loss: 5.8126e-04 - accuracy: 0.0017\n",
      "Epoch 88/150\n",
      "38/38 [==============================] - 4s 112ms/step - loss: 6.2180e-04 - accuracy: 0.0017\n",
      "Epoch 89/150\n",
      "38/38 [==============================] - 4s 100ms/step - loss: 6.3070e-04 - accuracy: 0.0017\n",
      "Epoch 90/150\n",
      "38/38 [==============================] - 4s 98ms/step - loss: 6.3300e-04 - accuracy: 0.0017\n",
      "Epoch 91/150\n",
      "38/38 [==============================] - 4s 96ms/step - loss: 5.9483e-04 - accuracy: 0.0017\n",
      "Epoch 92/150\n",
      "38/38 [==============================] - 4s 98ms/step - loss: 6.6753e-04 - accuracy: 0.0017\n",
      "Epoch 93/150\n",
      "38/38 [==============================] - 4s 104ms/step - loss: 6.5183e-04 - accuracy: 0.0017\n",
      "Epoch 94/150\n",
      "38/38 [==============================] - 4s 96ms/step - loss: 5.8024e-04 - accuracy: 0.0017\n",
      "Epoch 95/150\n",
      "38/38 [==============================] - 4s 101ms/step - loss: 5.9553e-04 - accuracy: 0.0017\n",
      "Epoch 96/150\n",
      "38/38 [==============================] - 4s 96ms/step - loss: 5.9660e-04 - accuracy: 0.0017\n",
      "Epoch 97/150\n",
      "38/38 [==============================] - 4s 95ms/step - loss: 6.4659e-04 - accuracy: 0.0017\n",
      "Epoch 98/150\n",
      "38/38 [==============================] - 4s 97ms/step - loss: 6.3707e-04 - accuracy: 0.0017\n",
      "Epoch 99/150\n",
      "38/38 [==============================] - 4s 112ms/step - loss: 5.8540e-04 - accuracy: 0.0017\n",
      "Epoch 100/150\n",
      "38/38 [==============================] - 4s 99ms/step - loss: 6.0537e-04 - accuracy: 0.0017\n",
      "Epoch 101/150\n",
      "38/38 [==============================] - 4s 96ms/step - loss: 5.7202e-04 - accuracy: 0.0017\n",
      "Epoch 102/150\n",
      "38/38 [==============================] - 4s 103ms/step - loss: 5.7470e-04 - accuracy: 0.0017\n",
      "Epoch 103/150\n",
      "38/38 [==============================] - 4s 100ms/step - loss: 5.8202e-04 - accuracy: 0.0017\n",
      "Epoch 104/150\n",
      "38/38 [==============================] - 4s 109ms/step - loss: 6.0582e-04 - accuracy: 0.0017\n",
      "Epoch 105/150\n",
      "38/38 [==============================] - 5s 119ms/step - loss: 5.6807e-04 - accuracy: 0.0017\n",
      "Epoch 106/150\n",
      "38/38 [==============================] - 4s 105ms/step - loss: 6.1420e-04 - accuracy: 0.0017\n",
      "Epoch 107/150\n",
      "38/38 [==============================] - 4s 96ms/step - loss: 6.0394e-04 - accuracy: 0.0017\n",
      "Epoch 108/150\n",
      "38/38 [==============================] - 4s 95ms/step - loss: 5.4613e-04 - accuracy: 0.0017\n",
      "Epoch 109/150\n",
      "38/38 [==============================] - 4s 96ms/step - loss: 6.6404e-04 - accuracy: 0.0017\n",
      "Epoch 110/150\n",
      "38/38 [==============================] - 4s 95ms/step - loss: 5.9510e-04 - accuracy: 0.0017\n",
      "Epoch 111/150\n",
      "38/38 [==============================] - 4s 96ms/step - loss: 5.7416e-04 - accuracy: 0.0017\n",
      "Epoch 112/150\n",
      "38/38 [==============================] - 4s 96ms/step - loss: 5.8956e-04 - accuracy: 0.0017\n",
      "Epoch 113/150\n",
      "38/38 [==============================] - 4s 96ms/step - loss: 5.4301e-04 - accuracy: 0.0017\n",
      "Epoch 114/150\n",
      "38/38 [==============================] - 4s 95ms/step - loss: 5.5395e-04 - accuracy: 0.0017\n",
      "Epoch 115/150\n",
      "38/38 [==============================] - 4s 113ms/step - loss: 5.7813e-04 - accuracy: 0.0017\n",
      "Epoch 116/150\n",
      "38/38 [==============================] - 4s 104ms/step - loss: 5.9709e-04 - accuracy: 0.0017\n",
      "Epoch 117/150\n",
      "38/38 [==============================] - 4s 98ms/step - loss: 5.5889e-04 - accuracy: 0.0017\n",
      "Epoch 118/150\n",
      "38/38 [==============================] - 4s 97ms/step - loss: 6.1166e-04 - accuracy: 0.0017\n",
      "Epoch 119/150\n",
      "38/38 [==============================] - 4s 96ms/step - loss: 5.3439e-04 - accuracy: 0.0017\n",
      "Epoch 120/150\n",
      "38/38 [==============================] - 4s 98ms/step - loss: 5.6239e-04 - accuracy: 0.0017\n",
      "Epoch 121/150\n",
      "38/38 [==============================] - 5s 121ms/step - loss: 6.0061e-04 - accuracy: 0.0017\n",
      "Epoch 122/150\n",
      "38/38 [==============================] - 4s 114ms/step - loss: 5.6760e-04 - accuracy: 0.0017\n",
      "Epoch 123/150\n",
      "38/38 [==============================] - 4s 102ms/step - loss: 5.4759e-04 - accuracy: 0.0017\n",
      "Epoch 124/150\n",
      "38/38 [==============================] - 4s 96ms/step - loss: 5.5580e-04 - accuracy: 0.0017\n",
      "Epoch 125/150\n",
      "38/38 [==============================] - 4s 99ms/step - loss: 6.0458e-04 - accuracy: 0.0017\n",
      "Epoch 126/150\n",
      "38/38 [==============================] - 4s 97ms/step - loss: 5.5414e-04 - accuracy: 0.0017\n",
      "Epoch 127/150\n",
      "38/38 [==============================] - 5s 126ms/step - loss: 6.0784e-04 - accuracy: 0.0017\n",
      "Epoch 128/150\n",
      "38/38 [==============================] - 4s 102ms/step - loss: 6.0687e-04 - accuracy: 0.0017\n",
      "Epoch 129/150\n",
      "38/38 [==============================] - 4s 100ms/step - loss: 5.8082e-04 - accuracy: 0.0017\n",
      "Epoch 130/150\n",
      "38/38 [==============================] - 4s 106ms/step - loss: 5.8350e-04 - accuracy: 0.0017\n",
      "Epoch 131/150\n",
      "38/38 [==============================] - 4s 104ms/step - loss: 5.5214e-04 - accuracy: 0.0017\n",
      "Epoch 132/150\n",
      "38/38 [==============================] - 4s 116ms/step - loss: 5.2484e-04 - accuracy: 0.0017\n",
      "Epoch 133/150\n",
      "38/38 [==============================] - 4s 97ms/step - loss: 5.8492e-04 - accuracy: 0.0017\n",
      "Epoch 134/150\n",
      "38/38 [==============================] - 4s 118ms/step - loss: 5.8909e-04 - accuracy: 0.0017\n",
      "Epoch 135/150\n",
      "38/38 [==============================] - 5s 128ms/step - loss: 6.2528e-04 - accuracy: 0.0017\n",
      "Epoch 136/150\n",
      "38/38 [==============================] - 4s 102ms/step - loss: 5.8502e-04 - accuracy: 0.0017\n",
      "Epoch 137/150\n",
      "38/38 [==============================] - 4s 97ms/step - loss: 6.2305e-04 - accuracy: 0.0017\n",
      "Epoch 138/150\n",
      "38/38 [==============================] - 4s 102ms/step - loss: 5.9086e-04 - accuracy: 0.0017\n",
      "Epoch 139/150\n",
      "38/38 [==============================] - 4s 105ms/step - loss: 5.6565e-04 - accuracy: 0.0017\n",
      "Epoch 140/150\n",
      "38/38 [==============================] - 4s 96ms/step - loss: 6.6277e-04 - accuracy: 0.0017\n",
      "Epoch 141/150\n",
      "38/38 [==============================] - 4s 97ms/step - loss: 5.5594e-04 - accuracy: 0.0017\n",
      "Epoch 142/150\n",
      "38/38 [==============================] - 4s 103ms/step - loss: 5.6779e-04 - accuracy: 0.0017\n",
      "Epoch 143/150\n",
      "38/38 [==============================] - 4s 98ms/step - loss: 6.1845e-04 - accuracy: 0.0017\n",
      "Epoch 144/150\n",
      "38/38 [==============================] - 5s 130ms/step - loss: 5.3182e-04 - accuracy: 0.0017\n",
      "Epoch 145/150\n",
      "38/38 [==============================] - 5s 142ms/step - loss: 6.0780e-04 - accuracy: 0.0017\n",
      "Epoch 146/150\n",
      "38/38 [==============================] - 6s 150ms/step - loss: 6.0229e-04 - accuracy: 0.0017\n",
      "Epoch 147/150\n",
      "38/38 [==============================] - 4s 107ms/step - loss: 5.4710e-04 - accuracy: 0.0017\n",
      "Epoch 148/150\n",
      "38/38 [==============================] - 4s 101ms/step - loss: 5.6395e-04 - accuracy: 0.0017\n",
      "Epoch 149/150\n",
      "38/38 [==============================] - 4s 101ms/step - loss: 6.5860e-04 - accuracy: 0.0017\n",
      "Epoch 150/150\n",
      "38/38 [==============================] - 4s 108ms/step - loss: 5.5241e-04 - accuracy: 0.0017\n"
     ]
    },
    {
     "data": {
      "text/plain": [
       "<keras.callbacks.History at 0x2150af89610>"
      ]
     },
     "execution_count": 123,
     "metadata": {},
     "output_type": "execute_result"
    }
   ],
   "source": [
    "regressor.fit(X_train, y_train, epochs = 150, batch_size = 32)"
   ]
  },
  {
   "cell_type": "markdown",
   "id": "33c79636",
   "metadata": {},
   "source": [
    "### Preparing the test data"
   ]
  },
  {
   "cell_type": "code",
   "execution_count": 39,
   "id": "77132ef3",
   "metadata": {},
   "outputs": [],
   "source": [
    "dataset_test = pd.read_csv('Google_Stock_Price_Test.csv')"
   ]
  },
  {
   "cell_type": "code",
   "execution_count": 40,
   "id": "4d069a67",
   "metadata": {},
   "outputs": [
    {
     "name": "stderr",
     "output_type": "stream",
     "text": [
      "C:\\Users\\akshayd6\\AppData\\Local\\Temp\\ipykernel_20812\\4292940149.py:12: SettingWithCopyWarning: \n",
      "A value is trying to be set on a copy of a slice from a DataFrame\n",
      "\n",
      "See the caveats in the documentation: https://pandas.pydata.org/pandas-docs/stable/user_guide/indexing.html#returning-a-view-versus-a-copy\n",
      "  df['Volume'].iloc[i] = df['Volume'].iloc[i].replace(',','')\n"
     ]
    }
   ],
   "source": [
    "dataset_test = clean(dataset_test)"
   ]
  },
  {
   "cell_type": "code",
   "execution_count": 41,
   "id": "5fbbdc77",
   "metadata": {},
   "outputs": [
    {
     "data": {
      "text/plain": [
       "(20, 5)"
      ]
     },
     "execution_count": 41,
     "metadata": {},
     "output_type": "execute_result"
    }
   ],
   "source": [
    "dataset_test.shape"
   ]
  },
  {
   "cell_type": "code",
   "execution_count": 42,
   "id": "cda4fb32",
   "metadata": {},
   "outputs": [],
   "source": [
    "full_dataset = pd.concat((dataset_train,dataset_test),axis = 0)"
   ]
  },
  {
   "cell_type": "code",
   "execution_count": 43,
   "id": "5304843f",
   "metadata": {},
   "outputs": [
    {
     "data": {
      "text/plain": [
       "(1278, 5)"
      ]
     },
     "execution_count": 43,
     "metadata": {},
     "output_type": "execute_result"
    }
   ],
   "source": [
    "full_dataset.shape"
   ]
  },
  {
   "cell_type": "code",
   "execution_count": 44,
   "id": "8350c336",
   "metadata": {},
   "outputs": [
    {
     "data": {
      "text/plain": [
       "1258"
      ]
     },
     "execution_count": 44,
     "metadata": {},
     "output_type": "execute_result"
    }
   ],
   "source": [
    "len(dataset_train)"
   ]
  },
  {
   "cell_type": "code",
   "execution_count": 45,
   "id": "02ca64a8",
   "metadata": {},
   "outputs": [
    {
     "data": {
      "text/plain": [
       "1178"
      ]
     },
     "execution_count": 45,
     "metadata": {},
     "output_type": "execute_result"
    }
   ],
   "source": [
    "len(dataset_train) - len(dataset_test) - 60"
   ]
  },
  {
   "cell_type": "code",
   "execution_count": 50,
   "id": "8e9c1a99",
   "metadata": {},
   "outputs": [],
   "source": [
    "inputs = full_dataset[len(full_dataset) - len(dataset_test) - 60:]"
   ]
  },
  {
   "cell_type": "code",
   "execution_count": 51,
   "id": "05729990",
   "metadata": {},
   "outputs": [
    {
     "data": {
      "text/html": [
       "<div>\n",
       "<style scoped>\n",
       "    .dataframe tbody tr th:only-of-type {\n",
       "        vertical-align: middle;\n",
       "    }\n",
       "\n",
       "    .dataframe tbody tr th {\n",
       "        vertical-align: top;\n",
       "    }\n",
       "\n",
       "    .dataframe thead th {\n",
       "        text-align: right;\n",
       "    }\n",
       "</style>\n",
       "<table border=\"1\" class=\"dataframe\">\n",
       "  <thead>\n",
       "    <tr style=\"text-align: right;\">\n",
       "      <th></th>\n",
       "      <th>Open</th>\n",
       "      <th>High</th>\n",
       "      <th>Low</th>\n",
       "      <th>Close</th>\n",
       "      <th>Volume</th>\n",
       "    </tr>\n",
       "  </thead>\n",
       "  <tbody>\n",
       "    <tr>\n",
       "      <th>1198</th>\n",
       "      <td>779.00</td>\n",
       "      <td>780.48</td>\n",
       "      <td>775.54</td>\n",
       "      <td>776.86</td>\n",
       "      <td>1070700</td>\n",
       "    </tr>\n",
       "    <tr>\n",
       "      <th>1199</th>\n",
       "      <td>779.66</td>\n",
       "      <td>779.66</td>\n",
       "      <td>770.75</td>\n",
       "      <td>775.08</td>\n",
       "      <td>933200</td>\n",
       "    </tr>\n",
       "    <tr>\n",
       "      <th>1200</th>\n",
       "      <td>777.71</td>\n",
       "      <td>789.38</td>\n",
       "      <td>775.87</td>\n",
       "      <td>785.94</td>\n",
       "      <td>1174900</td>\n",
       "    </tr>\n",
       "    <tr>\n",
       "      <th>1201</th>\n",
       "      <td>786.66</td>\n",
       "      <td>792.28</td>\n",
       "      <td>780.58</td>\n",
       "      <td>783.07</td>\n",
       "      <td>1372500</td>\n",
       "    </tr>\n",
       "    <tr>\n",
       "      <th>1202</th>\n",
       "      <td>783.76</td>\n",
       "      <td>788.13</td>\n",
       "      <td>782.06</td>\n",
       "      <td>786.14</td>\n",
       "      <td>937400</td>\n",
       "    </tr>\n",
       "    <tr>\n",
       "      <th>...</th>\n",
       "      <td>...</td>\n",
       "      <td>...</td>\n",
       "      <td>...</td>\n",
       "      <td>...</td>\n",
       "      <td>...</td>\n",
       "    </tr>\n",
       "    <tr>\n",
       "      <th>15</th>\n",
       "      <td>829.62</td>\n",
       "      <td>835.77</td>\n",
       "      <td>825.06</td>\n",
       "      <td>835.67</td>\n",
       "      <td>1494500</td>\n",
       "    </tr>\n",
       "    <tr>\n",
       "      <th>16</th>\n",
       "      <td>837.81</td>\n",
       "      <td>838.00</td>\n",
       "      <td>827.01</td>\n",
       "      <td>832.15</td>\n",
       "      <td>2973900</td>\n",
       "    </tr>\n",
       "    <tr>\n",
       "      <th>17</th>\n",
       "      <td>834.71</td>\n",
       "      <td>841.95</td>\n",
       "      <td>820.44</td>\n",
       "      <td>823.31</td>\n",
       "      <td>2965800</td>\n",
       "    </tr>\n",
       "    <tr>\n",
       "      <th>18</th>\n",
       "      <td>814.66</td>\n",
       "      <td>815.84</td>\n",
       "      <td>799.80</td>\n",
       "      <td>802.32</td>\n",
       "      <td>3246600</td>\n",
       "    </tr>\n",
       "    <tr>\n",
       "      <th>19</th>\n",
       "      <td>796.86</td>\n",
       "      <td>801.25</td>\n",
       "      <td>790.52</td>\n",
       "      <td>796.79</td>\n",
       "      <td>2160600</td>\n",
       "    </tr>\n",
       "  </tbody>\n",
       "</table>\n",
       "<p>80 rows × 5 columns</p>\n",
       "</div>"
      ],
      "text/plain": [
       "        Open    High     Low   Close   Volume\n",
       "1198  779.00  780.48  775.54  776.86  1070700\n",
       "1199  779.66  779.66  770.75  775.08   933200\n",
       "1200  777.71  789.38  775.87  785.94  1174900\n",
       "1201  786.66  792.28  780.58  783.07  1372500\n",
       "1202  783.76  788.13  782.06  786.14   937400\n",
       "...      ...     ...     ...     ...      ...\n",
       "15    829.62  835.77  825.06  835.67  1494500\n",
       "16    837.81  838.00  827.01  832.15  2973900\n",
       "17    834.71  841.95  820.44  823.31  2965800\n",
       "18    814.66  815.84  799.80  802.32  3246600\n",
       "19    796.86  801.25  790.52  796.79  2160600\n",
       "\n",
       "[80 rows x 5 columns]"
      ]
     },
     "execution_count": 51,
     "metadata": {},
     "output_type": "execute_result"
    }
   ],
   "source": [
    "inputs"
   ]
  },
  {
   "cell_type": "code",
   "execution_count": 52,
   "id": "a0abd140",
   "metadata": {},
   "outputs": [
    {
     "data": {
      "text/plain": [
       "(80, 5)"
      ]
     },
     "execution_count": 52,
     "metadata": {},
     "output_type": "execute_result"
    }
   ],
   "source": [
    "inputs.shape"
   ]
  },
  {
   "cell_type": "code",
   "execution_count": 54,
   "id": "4155e422",
   "metadata": {},
   "outputs": [],
   "source": [
    "inputs_target = sc.transform(inputs.iloc[:,0:1])\n",
    "inputs_data = sc1.transform(inputs.iloc[:,1:])"
   ]
  },
  {
   "cell_type": "code",
   "execution_count": 56,
   "id": "be2e149d",
   "metadata": {},
   "outputs": [],
   "source": [
    "final_test = np.concatenate((inputs_target,inputs_data),axis = 1)"
   ]
  },
  {
   "cell_type": "code",
   "execution_count": 58,
   "id": "e097cd41",
   "metadata": {},
   "outputs": [
    {
     "data": {
      "text/plain": [
       "(80, 5)"
      ]
     },
     "execution_count": 58,
     "metadata": {},
     "output_type": "execute_result"
    }
   ],
   "source": [
    "final_test.shape"
   ]
  },
  {
   "cell_type": "code",
   "execution_count": 55,
   "id": "3be84488",
   "metadata": {},
   "outputs": [],
   "source": [
    "X_test = []\n",
    "y_test = []"
   ]
  },
  {
   "cell_type": "code",
   "execution_count": 60,
   "id": "bd1d3cdb",
   "metadata": {},
   "outputs": [],
   "source": [
    "for i in range(60,80):\n",
    "    X_test.append(final_test[i-60:i,0:5])\n",
    "    y_test.append(final_test[i,0])"
   ]
  },
  {
   "cell_type": "code",
   "execution_count": 61,
   "id": "baddc30b",
   "metadata": {},
   "outputs": [],
   "source": [
    "X_test = np.array(X_test)\n",
    "y_test = np.array(y_test)"
   ]
  },
  {
   "cell_type": "code",
   "execution_count": 62,
   "id": "74246cc5",
   "metadata": {},
   "outputs": [
    {
     "data": {
      "text/plain": [
       "(20, 60, 5)"
      ]
     },
     "execution_count": 62,
     "metadata": {},
     "output_type": "execute_result"
    }
   ],
   "source": [
    "X_test.shape"
   ]
  },
  {
   "cell_type": "markdown",
   "id": "0530ac40",
   "metadata": {},
   "source": [
    "### Obtain Predictions"
   ]
  },
  {
   "cell_type": "code",
   "execution_count": 124,
   "id": "f730d5ea",
   "metadata": {},
   "outputs": [
    {
     "name": "stdout",
     "output_type": "stream",
     "text": [
      "1/1 [==============================] - 2s 2s/step\n"
     ]
    }
   ],
   "source": [
    "preds = regressor.predict(X_test)"
   ]
  },
  {
   "cell_type": "code",
   "execution_count": 125,
   "id": "d890702a",
   "metadata": {},
   "outputs": [
    {
     "data": {
      "text/plain": [
       "array([[0.9389463 ],\n",
       "       [0.94500124],\n",
       "       [0.9491211 ],\n",
       "       [0.95557463],\n",
       "       [0.9642826 ],\n",
       "       [0.9688045 ],\n",
       "       [0.97227645],\n",
       "       [0.97275496],\n",
       "       [0.970687  ],\n",
       "       [0.9732512 ],\n",
       "       [0.9700286 ],\n",
       "       [0.9690469 ],\n",
       "       [0.96776956],\n",
       "       [0.9687872 ],\n",
       "       [0.9741317 ],\n",
       "       [0.978155  ],\n",
       "       [0.9833074 ],\n",
       "       [0.98586655],\n",
       "       [0.98621356],\n",
       "       [0.96371484]], dtype=float32)"
      ]
     },
     "execution_count": 125,
     "metadata": {},
     "output_type": "execute_result"
    }
   ],
   "source": [
    "preds"
   ]
  },
  {
   "cell_type": "code",
   "execution_count": 126,
   "id": "18fb6551",
   "metadata": {},
   "outputs": [],
   "source": [
    "final_preds = sc.inverse_transform(preds)"
   ]
  },
  {
   "cell_type": "code",
   "execution_count": 127,
   "id": "95093aa6",
   "metadata": {},
   "outputs": [],
   "source": [
    "final_preds = final_preds.reshape(20,)"
   ]
  },
  {
   "cell_type": "code",
   "execution_count": 128,
   "id": "f53dad23",
   "metadata": {},
   "outputs": [
    {
     "data": {
      "text/plain": [
       "array([783.86   , 787.11487, 789.3295 , 792.79865, 797.47974, 799.9105 ,\n",
       "       801.7769 , 802.0341 , 800.9225 , 802.3009 , 800.56854, 800.04083,\n",
       "       799.3542 , 799.90125, 802.77423, 804.937  , 807.7067 , 809.0824 ,\n",
       "       809.2689 , 797.1745 ], dtype=float32)"
      ]
     },
     "execution_count": 128,
     "metadata": {},
     "output_type": "execute_result"
    }
   ],
   "source": [
    "final_preds"
   ]
  },
  {
   "cell_type": "markdown",
   "id": "250f3b68",
   "metadata": {},
   "source": [
    "### Preparing y_test for visualization"
   ]
  },
  {
   "cell_type": "code",
   "execution_count": 111,
   "id": "54779bef",
   "metadata": {},
   "outputs": [
    {
     "data": {
      "text/plain": [
       "(20,)"
      ]
     },
     "execution_count": 111,
     "metadata": {},
     "output_type": "execute_result"
    }
   ],
   "source": [
    "y_test.shape"
   ]
  },
  {
   "cell_type": "code",
   "execution_count": 112,
   "id": "f686d19b",
   "metadata": {},
   "outputs": [],
   "source": [
    "original_values = sc.inverse_transform(y_test.reshape(-1,1))"
   ]
  },
  {
   "cell_type": "code",
   "execution_count": 113,
   "id": "5e2e00ba",
   "metadata": {},
   "outputs": [
    {
     "data": {
      "text/plain": [
       "array([[778.81],\n",
       "       [788.36],\n",
       "       [786.08],\n",
       "       [795.26],\n",
       "       [806.4 ],\n",
       "       [807.86],\n",
       "       [805.  ],\n",
       "       [807.14],\n",
       "       [807.48],\n",
       "       [807.08],\n",
       "       [805.81],\n",
       "       [805.12],\n",
       "       [806.91],\n",
       "       [807.25],\n",
       "       [822.3 ],\n",
       "       [829.62],\n",
       "       [837.81],\n",
       "       [834.71],\n",
       "       [814.66],\n",
       "       [796.86]])"
      ]
     },
     "execution_count": 113,
     "metadata": {},
     "output_type": "execute_result"
    }
   ],
   "source": [
    "original_values"
   ]
  },
  {
   "cell_type": "markdown",
   "id": "3686f152",
   "metadata": {},
   "source": [
    "### Visulaizing results"
   ]
  },
  {
   "cell_type": "code",
   "execution_count": 129,
   "id": "d795ac66",
   "metadata": {},
   "outputs": [
    {
     "data": {
      "image/png": "[encoded data removed]",
      "text/plain": [
       "<Figure size 432x288 with 1 Axes>"
      ]
     },
     "metadata": {
      "needs_background": "light"
     },
     "output_type": "display_data"
    }
   ],
   "source": [
    "plt.plot(original_values, color = 'red', label = 'Real Google Stock Price')\n",
    "plt.plot(final_preds, color = 'blue', label = 'Predicted Google Stock Price')\n",
    "plt.title('Google Stock Price Prediction')\n",
    "plt.xlabel('Time')\n",
    "plt.ylabel('Google Stock Price')\n",
    "plt.legend()\n",
    "plt.show()"
   ]
  }
 ],
 "metadata": {
  "kernelspec": {
   "display_name": "Python 3 (ipykernel)",
   "language": "python",
   "name": "python3"
  },
  "language_info": {
   "codemirror_mode": {
    "name": "ipython",
    "version": 3
   },
   "file_extension": ".py",
   "mimetype": "text/x-python",
   "name": "python",
   "nbconvert_exporter": "python",
   "pygments_lexer": "ipython3",
   "version": "3.9.12"
  }
 },
 "nbformat": 4,
 "nbformat_minor": 5
}
